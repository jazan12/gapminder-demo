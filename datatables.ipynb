{
 "cells": [
  {
   "cell_type": "code",
   "execution_count": 1,
   "metadata": {},
   "outputs": [],
   "source": [
    "import pandas as pd"
   ]
  },
  {
   "cell_type": "code",
   "execution_count": 4,
   "metadata": {},
   "outputs": [],
   "source": [
    "data = pd.read_csv('gapminder_gdp_oceania.csv')"
   ]
  },
  {
   "cell_type": "code",
   "execution_count": 6,
   "metadata": {},
   "outputs": [
    {
     "name": "stdout",
     "output_type": "stream",
     "text": [
      "       country  gdpPercap_1952  gdpPercap_1957  gdpPercap_1962  \\\n",
      "0    Australia     10039.59564     10949.64959     12217.22686   \n",
      "1  New Zealand     10556.57566     12247.39532     13175.67800   \n",
      "\n",
      "   gdpPercap_1967  gdpPercap_1972  gdpPercap_1977  gdpPercap_1982  \\\n",
      "0     14526.12465     16788.62948     18334.19751     19477.00928   \n",
      "1     14463.91893     16046.03728     16233.71770     17632.41040   \n",
      "\n",
      "   gdpPercap_1987  gdpPercap_1992  gdpPercap_1997  gdpPercap_2002  \\\n",
      "0     21888.88903     23424.76683     26997.93657     30687.75473   \n",
      "1     19007.19129     18363.32494     21050.41377     23189.80135   \n",
      "\n",
      "   gdpPercap_2007  \n",
      "0     34435.36744  \n",
      "1     25185.00911  \n"
     ]
    }
   ],
   "source": [
    "print(data)"
   ]
  },
  {
   "cell_type": "code",
   "execution_count": 10,
   "metadata": {},
   "outputs": [
    {
     "name": "stdout",
     "output_type": "stream",
     "text": [
      "             gdpPercap_1952  gdpPercap_1957  gdpPercap_1962  gdpPercap_1967  \\\n",
      "country                                                                       \n",
      "Australia       10039.59564     10949.64959     12217.22686     14526.12465   \n",
      "New Zealand     10556.57566     12247.39532     13175.67800     14463.91893   \n",
      "\n",
      "             gdpPercap_1972  gdpPercap_1977  gdpPercap_1982  gdpPercap_1987  \\\n",
      "country                                                                       \n",
      "Australia       16788.62948     18334.19751     19477.00928     21888.88903   \n",
      "New Zealand     16046.03728     16233.71770     17632.41040     19007.19129   \n",
      "\n",
      "             gdpPercap_1992  gdpPercap_1997  gdpPercap_2002  gdpPercap_2007  \n",
      "country                                                                      \n",
      "Australia       23424.76683     26997.93657     30687.75473     34435.36744  \n",
      "New Zealand     18363.32494     21050.41377     23189.80135     25185.00911  \n"
     ]
    }
   ],
   "source": [
    "data_raw = pd.read_csv('gapminder_gdp_oceania.csv',index_col=\"country\")\n",
    "print(data_raw)"
   ]
  },
  {
   "cell_type": "code",
   "execution_count": 8,
   "metadata": {},
   "outputs": [
    {
     "data": {
      "text/html": [
       "<div>\n",
       "<style scoped>\n",
       "    .dataframe tbody tr th:only-of-type {\n",
       "        vertical-align: middle;\n",
       "    }\n",
       "\n",
       "    .dataframe tbody tr th {\n",
       "        vertical-align: top;\n",
       "    }\n",
       "\n",
       "    .dataframe thead th {\n",
       "        text-align: right;\n",
       "    }\n",
       "</style>\n",
       "<table border=\"1\" class=\"dataframe\">\n",
       "  <thead>\n",
       "    <tr style=\"text-align: right;\">\n",
       "      <th></th>\n",
       "      <th>gdpPercap_1952</th>\n",
       "      <th>gdpPercap_1957</th>\n",
       "      <th>gdpPercap_1962</th>\n",
       "      <th>gdpPercap_1967</th>\n",
       "      <th>gdpPercap_1972</th>\n",
       "      <th>gdpPercap_1977</th>\n",
       "      <th>gdpPercap_1982</th>\n",
       "      <th>gdpPercap_1987</th>\n",
       "      <th>gdpPercap_1992</th>\n",
       "      <th>gdpPercap_1997</th>\n",
       "      <th>gdpPercap_2002</th>\n",
       "      <th>gdpPercap_2007</th>\n",
       "    </tr>\n",
       "    <tr>\n",
       "      <th>country</th>\n",
       "      <th></th>\n",
       "      <th></th>\n",
       "      <th></th>\n",
       "      <th></th>\n",
       "      <th></th>\n",
       "      <th></th>\n",
       "      <th></th>\n",
       "      <th></th>\n",
       "      <th></th>\n",
       "      <th></th>\n",
       "      <th></th>\n",
       "      <th></th>\n",
       "    </tr>\n",
       "  </thead>\n",
       "  <tbody>\n",
       "    <tr>\n",
       "      <th>Australia</th>\n",
       "      <td>10039.59564</td>\n",
       "      <td>10949.64959</td>\n",
       "      <td>12217.22686</td>\n",
       "      <td>14526.12465</td>\n",
       "      <td>16788.62948</td>\n",
       "      <td>18334.19751</td>\n",
       "      <td>19477.00928</td>\n",
       "      <td>21888.88903</td>\n",
       "      <td>23424.76683</td>\n",
       "      <td>26997.93657</td>\n",
       "      <td>30687.75473</td>\n",
       "      <td>34435.36744</td>\n",
       "    </tr>\n",
       "    <tr>\n",
       "      <th>New Zealand</th>\n",
       "      <td>10556.57566</td>\n",
       "      <td>12247.39532</td>\n",
       "      <td>13175.67800</td>\n",
       "      <td>14463.91893</td>\n",
       "      <td>16046.03728</td>\n",
       "      <td>16233.71770</td>\n",
       "      <td>17632.41040</td>\n",
       "      <td>19007.19129</td>\n",
       "      <td>18363.32494</td>\n",
       "      <td>21050.41377</td>\n",
       "      <td>23189.80135</td>\n",
       "      <td>25185.00911</td>\n",
       "    </tr>\n",
       "  </tbody>\n",
       "</table>\n",
       "</div>"
      ],
      "text/plain": [
       "             gdpPercap_1952  gdpPercap_1957  gdpPercap_1962  gdpPercap_1967  \\\n",
       "country                                                                       \n",
       "Australia       10039.59564     10949.64959     12217.22686     14526.12465   \n",
       "New Zealand     10556.57566     12247.39532     13175.67800     14463.91893   \n",
       "\n",
       "             gdpPercap_1972  gdpPercap_1977  gdpPercap_1982  gdpPercap_1987  \\\n",
       "country                                                                       \n",
       "Australia       16788.62948     18334.19751     19477.00928     21888.88903   \n",
       "New Zealand     16046.03728     16233.71770     17632.41040     19007.19129   \n",
       "\n",
       "             gdpPercap_1992  gdpPercap_1997  gdpPercap_2002  gdpPercap_2007  \n",
       "country                                                                      \n",
       "Australia       23424.76683     26997.93657     30687.75473     34435.36744  \n",
       "New Zealand     18363.32494     21050.41377     23189.80135     25185.00911  "
      ]
     },
     "execution_count": 8,
     "metadata": {},
     "output_type": "execute_result"
    }
   ],
   "source": [
    "data"
   ]
  },
  {
   "cell_type": "code",
   "execution_count": 12,
   "metadata": {},
   "outputs": [
    {
     "name": "stdout",
     "output_type": "stream",
     "text": [
      "<class 'pandas.core.frame.DataFrame'>\n",
      "Index: 2 entries, Australia to New Zealand\n",
      "Data columns (total 12 columns):\n",
      " #   Column          Non-Null Count  Dtype  \n",
      "---  ------          --------------  -----  \n",
      " 0   gdpPercap_1952  2 non-null      float64\n",
      " 1   gdpPercap_1957  2 non-null      float64\n",
      " 2   gdpPercap_1962  2 non-null      float64\n",
      " 3   gdpPercap_1967  2 non-null      float64\n",
      " 4   gdpPercap_1972  2 non-null      float64\n",
      " 5   gdpPercap_1977  2 non-null      float64\n",
      " 6   gdpPercap_1982  2 non-null      float64\n",
      " 7   gdpPercap_1987  2 non-null      float64\n",
      " 8   gdpPercap_1992  2 non-null      float64\n",
      " 9   gdpPercap_1997  2 non-null      float64\n",
      " 10  gdpPercap_2002  2 non-null      float64\n",
      " 11  gdpPercap_2007  2 non-null      float64\n",
      "dtypes: float64(12)\n",
      "memory usage: 208.0+ bytes\n"
     ]
    }
   ],
   "source": [
    "data.info()"
   ]
  },
  {
   "cell_type": "code",
   "execution_count": 13,
   "metadata": {},
   "outputs": [
    {
     "name": "stdout",
     "output_type": "stream",
     "text": [
      "Index(['gdpPercap_1952', 'gdpPercap_1957', 'gdpPercap_1962', 'gdpPercap_1967',\n",
      "       'gdpPercap_1972', 'gdpPercap_1977', 'gdpPercap_1982', 'gdpPercap_1987',\n",
      "       'gdpPercap_1992', 'gdpPercap_1997', 'gdpPercap_2002', 'gdpPercap_2007'],\n",
      "      dtype='object')\n"
     ]
    }
   ],
   "source": [
    "print(data.columns)"
   ]
  },
  {
   "cell_type": "code",
   "execution_count": 16,
   "metadata": {},
   "outputs": [
    {
     "name": "stdout",
     "output_type": "stream",
     "text": [
      "country           Australia  New Zealand\n",
      "gdpPercap_1952  10039.59564  10556.57566\n",
      "gdpPercap_1957  10949.64959  12247.39532\n",
      "gdpPercap_1962  12217.22686  13175.67800\n",
      "gdpPercap_1967  14526.12465  14463.91893\n",
      "gdpPercap_1972  16788.62948  16046.03728\n",
      "gdpPercap_1977  18334.19751  16233.71770\n",
      "gdpPercap_1982  19477.00928  17632.41040\n",
      "gdpPercap_1987  21888.88903  19007.19129\n",
      "gdpPercap_1992  23424.76683  18363.32494\n",
      "gdpPercap_1997  26997.93657  21050.41377\n",
      "gdpPercap_2002  30687.75473  23189.80135\n",
      "gdpPercap_2007  34435.36744  25185.00911\n"
     ]
    }
   ],
   "source": [
    "print(data.T)"
   ]
  },
  {
   "cell_type": "code",
   "execution_count": 17,
   "metadata": {},
   "outputs": [
    {
     "name": "stdout",
     "output_type": "stream",
     "text": [
      "       gdpPercap_1952  gdpPercap_1957  gdpPercap_1962  gdpPercap_1967  \\\n",
      "count        2.000000        2.000000        2.000000        2.000000   \n",
      "mean     10298.085650    11598.522455    12696.452430    14495.021790   \n",
      "std        365.560078      917.644806      677.727301       43.986086   \n",
      "min      10039.595640    10949.649590    12217.226860    14463.918930   \n",
      "25%      10168.840645    11274.086022    12456.839645    14479.470360   \n",
      "50%      10298.085650    11598.522455    12696.452430    14495.021790   \n",
      "75%      10427.330655    11922.958888    12936.065215    14510.573220   \n",
      "max      10556.575660    12247.395320    13175.678000    14526.124650   \n",
      "\n",
      "       gdpPercap_1972  gdpPercap_1977  gdpPercap_1982  gdpPercap_1987  \\\n",
      "count         2.00000        2.000000        2.000000        2.000000   \n",
      "mean      16417.33338    17283.957605    18554.709840    20448.040160   \n",
      "std         525.09198     1485.263517     1304.328377     2037.668013   \n",
      "min       16046.03728    16233.717700    17632.410400    19007.191290   \n",
      "25%       16231.68533    16758.837652    18093.560120    19727.615725   \n",
      "50%       16417.33338    17283.957605    18554.709840    20448.040160   \n",
      "75%       16602.98143    17809.077557    19015.859560    21168.464595   \n",
      "max       16788.62948    18334.197510    19477.009280    21888.889030   \n",
      "\n",
      "       gdpPercap_1992  gdpPercap_1997  gdpPercap_2002  gdpPercap_2007  \n",
      "count        2.000000        2.000000        2.000000        2.000000  \n",
      "mean     20894.045885    24024.175170    26938.778040    29810.188275  \n",
      "std       3578.979883     4205.533703     5301.853680     6540.991104  \n",
      "min      18363.324940    21050.413770    23189.801350    25185.009110  \n",
      "25%      19628.685413    22537.294470    25064.289695    27497.598692  \n",
      "50%      20894.045885    24024.175170    26938.778040    29810.188275  \n",
      "75%      22159.406358    25511.055870    28813.266385    32122.777857  \n",
      "max      23424.766830    26997.936570    30687.754730    34435.367440  \n"
     ]
    }
   ],
   "source": [
    "print(data.describe())"
   ]
  },
  {
   "cell_type": "code",
   "execution_count": 18,
   "metadata": {},
   "outputs": [
    {
     "data": {
      "text/html": [
       "<div>\n",
       "<style scoped>\n",
       "    .dataframe tbody tr th:only-of-type {\n",
       "        vertical-align: middle;\n",
       "    }\n",
       "\n",
       "    .dataframe tbody tr th {\n",
       "        vertical-align: top;\n",
       "    }\n",
       "\n",
       "    .dataframe thead th {\n",
       "        text-align: right;\n",
       "    }\n",
       "</style>\n",
       "<table border=\"1\" class=\"dataframe\">\n",
       "  <thead>\n",
       "    <tr style=\"text-align: right;\">\n",
       "      <th></th>\n",
       "      <th>gdpPercap_1952</th>\n",
       "      <th>gdpPercap_1957</th>\n",
       "      <th>gdpPercap_1962</th>\n",
       "      <th>gdpPercap_1967</th>\n",
       "      <th>gdpPercap_1972</th>\n",
       "      <th>gdpPercap_1977</th>\n",
       "      <th>gdpPercap_1982</th>\n",
       "      <th>gdpPercap_1987</th>\n",
       "      <th>gdpPercap_1992</th>\n",
       "      <th>gdpPercap_1997</th>\n",
       "      <th>gdpPercap_2002</th>\n",
       "      <th>gdpPercap_2007</th>\n",
       "    </tr>\n",
       "  </thead>\n",
       "  <tbody>\n",
       "    <tr>\n",
       "      <th>count</th>\n",
       "      <td>2.000000</td>\n",
       "      <td>2.000000</td>\n",
       "      <td>2.000000</td>\n",
       "      <td>2.000000</td>\n",
       "      <td>2.00000</td>\n",
       "      <td>2.000000</td>\n",
       "      <td>2.000000</td>\n",
       "      <td>2.000000</td>\n",
       "      <td>2.000000</td>\n",
       "      <td>2.000000</td>\n",
       "      <td>2.000000</td>\n",
       "      <td>2.000000</td>\n",
       "    </tr>\n",
       "    <tr>\n",
       "      <th>mean</th>\n",
       "      <td>10298.085650</td>\n",
       "      <td>11598.522455</td>\n",
       "      <td>12696.452430</td>\n",
       "      <td>14495.021790</td>\n",
       "      <td>16417.33338</td>\n",
       "      <td>17283.957605</td>\n",
       "      <td>18554.709840</td>\n",
       "      <td>20448.040160</td>\n",
       "      <td>20894.045885</td>\n",
       "      <td>24024.175170</td>\n",
       "      <td>26938.778040</td>\n",
       "      <td>29810.188275</td>\n",
       "    </tr>\n",
       "    <tr>\n",
       "      <th>std</th>\n",
       "      <td>365.560078</td>\n",
       "      <td>917.644806</td>\n",
       "      <td>677.727301</td>\n",
       "      <td>43.986086</td>\n",
       "      <td>525.09198</td>\n",
       "      <td>1485.263517</td>\n",
       "      <td>1304.328377</td>\n",
       "      <td>2037.668013</td>\n",
       "      <td>3578.979883</td>\n",
       "      <td>4205.533703</td>\n",
       "      <td>5301.853680</td>\n",
       "      <td>6540.991104</td>\n",
       "    </tr>\n",
       "    <tr>\n",
       "      <th>min</th>\n",
       "      <td>10039.595640</td>\n",
       "      <td>10949.649590</td>\n",
       "      <td>12217.226860</td>\n",
       "      <td>14463.918930</td>\n",
       "      <td>16046.03728</td>\n",
       "      <td>16233.717700</td>\n",
       "      <td>17632.410400</td>\n",
       "      <td>19007.191290</td>\n",
       "      <td>18363.324940</td>\n",
       "      <td>21050.413770</td>\n",
       "      <td>23189.801350</td>\n",
       "      <td>25185.009110</td>\n",
       "    </tr>\n",
       "    <tr>\n",
       "      <th>25%</th>\n",
       "      <td>10168.840645</td>\n",
       "      <td>11274.086022</td>\n",
       "      <td>12456.839645</td>\n",
       "      <td>14479.470360</td>\n",
       "      <td>16231.68533</td>\n",
       "      <td>16758.837652</td>\n",
       "      <td>18093.560120</td>\n",
       "      <td>19727.615725</td>\n",
       "      <td>19628.685413</td>\n",
       "      <td>22537.294470</td>\n",
       "      <td>25064.289695</td>\n",
       "      <td>27497.598692</td>\n",
       "    </tr>\n",
       "    <tr>\n",
       "      <th>50%</th>\n",
       "      <td>10298.085650</td>\n",
       "      <td>11598.522455</td>\n",
       "      <td>12696.452430</td>\n",
       "      <td>14495.021790</td>\n",
       "      <td>16417.33338</td>\n",
       "      <td>17283.957605</td>\n",
       "      <td>18554.709840</td>\n",
       "      <td>20448.040160</td>\n",
       "      <td>20894.045885</td>\n",
       "      <td>24024.175170</td>\n",
       "      <td>26938.778040</td>\n",
       "      <td>29810.188275</td>\n",
       "    </tr>\n",
       "    <tr>\n",
       "      <th>75%</th>\n",
       "      <td>10427.330655</td>\n",
       "      <td>11922.958888</td>\n",
       "      <td>12936.065215</td>\n",
       "      <td>14510.573220</td>\n",
       "      <td>16602.98143</td>\n",
       "      <td>17809.077557</td>\n",
       "      <td>19015.859560</td>\n",
       "      <td>21168.464595</td>\n",
       "      <td>22159.406358</td>\n",
       "      <td>25511.055870</td>\n",
       "      <td>28813.266385</td>\n",
       "      <td>32122.777857</td>\n",
       "    </tr>\n",
       "    <tr>\n",
       "      <th>max</th>\n",
       "      <td>10556.575660</td>\n",
       "      <td>12247.395320</td>\n",
       "      <td>13175.678000</td>\n",
       "      <td>14526.124650</td>\n",
       "      <td>16788.62948</td>\n",
       "      <td>18334.197510</td>\n",
       "      <td>19477.009280</td>\n",
       "      <td>21888.889030</td>\n",
       "      <td>23424.766830</td>\n",
       "      <td>26997.936570</td>\n",
       "      <td>30687.754730</td>\n",
       "      <td>34435.367440</td>\n",
       "    </tr>\n",
       "  </tbody>\n",
       "</table>\n",
       "</div>"
      ],
      "text/plain": [
       "       gdpPercap_1952  gdpPercap_1957  gdpPercap_1962  gdpPercap_1967  \\\n",
       "count        2.000000        2.000000        2.000000        2.000000   \n",
       "mean     10298.085650    11598.522455    12696.452430    14495.021790   \n",
       "std        365.560078      917.644806      677.727301       43.986086   \n",
       "min      10039.595640    10949.649590    12217.226860    14463.918930   \n",
       "25%      10168.840645    11274.086022    12456.839645    14479.470360   \n",
       "50%      10298.085650    11598.522455    12696.452430    14495.021790   \n",
       "75%      10427.330655    11922.958888    12936.065215    14510.573220   \n",
       "max      10556.575660    12247.395320    13175.678000    14526.124650   \n",
       "\n",
       "       gdpPercap_1972  gdpPercap_1977  gdpPercap_1982  gdpPercap_1987  \\\n",
       "count         2.00000        2.000000        2.000000        2.000000   \n",
       "mean      16417.33338    17283.957605    18554.709840    20448.040160   \n",
       "std         525.09198     1485.263517     1304.328377     2037.668013   \n",
       "min       16046.03728    16233.717700    17632.410400    19007.191290   \n",
       "25%       16231.68533    16758.837652    18093.560120    19727.615725   \n",
       "50%       16417.33338    17283.957605    18554.709840    20448.040160   \n",
       "75%       16602.98143    17809.077557    19015.859560    21168.464595   \n",
       "max       16788.62948    18334.197510    19477.009280    21888.889030   \n",
       "\n",
       "       gdpPercap_1992  gdpPercap_1997  gdpPercap_2002  gdpPercap_2007  \n",
       "count        2.000000        2.000000        2.000000        2.000000  \n",
       "mean     20894.045885    24024.175170    26938.778040    29810.188275  \n",
       "std       3578.979883     4205.533703     5301.853680     6540.991104  \n",
       "min      18363.324940    21050.413770    23189.801350    25185.009110  \n",
       "25%      19628.685413    22537.294470    25064.289695    27497.598692  \n",
       "50%      20894.045885    24024.175170    26938.778040    29810.188275  \n",
       "75%      22159.406358    25511.055870    28813.266385    32122.777857  \n",
       "max      23424.766830    26997.936570    30687.754730    34435.367440  "
      ]
     },
     "execution_count": 18,
     "metadata": {},
     "output_type": "execute_result"
    }
   ],
   "source": [
    "data.describe()"
   ]
  },
  {
   "cell_type": "code",
   "execution_count": 19,
   "metadata": {},
   "outputs": [],
   "source": [
    "americas = pd.read_csv(\"gapminder_gdp_americas.csv\",index_col=\"country\")"
   ]
  },
  {
   "cell_type": "code",
   "execution_count": 21,
   "metadata": {},
   "outputs": [
    {
     "name": "stdout",
     "output_type": "stream",
     "text": [
      "Help on method head in module pandas.core.generic:\n",
      "\n",
      "head(n: int = 5) -> ~FrameOrSeries method of pandas.core.frame.DataFrame instance\n",
      "    Return the first `n` rows.\n",
      "    \n",
      "    This function returns the first `n` rows for the object based\n",
      "    on position. It is useful for quickly testing if your object\n",
      "    has the right type of data in it.\n",
      "    \n",
      "    For negative values of `n`, this function returns all rows except\n",
      "    the last `n` rows, equivalent to ``df[:-n]``.\n",
      "    \n",
      "    Parameters\n",
      "    ----------\n",
      "    n : int, default 5\n",
      "        Number of rows to select.\n",
      "    \n",
      "    Returns\n",
      "    -------\n",
      "    same type as caller\n",
      "        The first `n` rows of the caller object.\n",
      "    \n",
      "    See Also\n",
      "    --------\n",
      "    DataFrame.tail: Returns the last `n` rows.\n",
      "    \n",
      "    Examples\n",
      "    --------\n",
      "    >>> df = pd.DataFrame({'animal': ['alligator', 'bee', 'falcon', 'lion',\n",
      "    ...                    'monkey', 'parrot', 'shark', 'whale', 'zebra']})\n",
      "    >>> df\n",
      "          animal\n",
      "    0  alligator\n",
      "    1        bee\n",
      "    2     falcon\n",
      "    3       lion\n",
      "    4     monkey\n",
      "    5     parrot\n",
      "    6      shark\n",
      "    7      whale\n",
      "    8      zebra\n",
      "    \n",
      "    Viewing the first 5 lines\n",
      "    \n",
      "    >>> df.head()\n",
      "          animal\n",
      "    0  alligator\n",
      "    1        bee\n",
      "    2     falcon\n",
      "    3       lion\n",
      "    4     monkey\n",
      "    \n",
      "    Viewing the first `n` lines (three in this case)\n",
      "    \n",
      "    >>> df.head(3)\n",
      "          animal\n",
      "    0  alligator\n",
      "    1        bee\n",
      "    2     falcon\n",
      "    \n",
      "    For negative values of `n`\n",
      "    \n",
      "    >>> df.head(-3)\n",
      "          animal\n",
      "    0  alligator\n",
      "    1        bee\n",
      "    2     falcon\n",
      "    3       lion\n",
      "    4     monkey\n",
      "    5     parrot\n",
      "\n"
     ]
    }
   ],
   "source": [
    "help(americas.head)"
   ]
  },
  {
   "cell_type": "code",
   "execution_count": 22,
   "metadata": {},
   "outputs": [
    {
     "data": {
      "text/html": [
       "<div>\n",
       "<style scoped>\n",
       "    .dataframe tbody tr th:only-of-type {\n",
       "        vertical-align: middle;\n",
       "    }\n",
       "\n",
       "    .dataframe tbody tr th {\n",
       "        vertical-align: top;\n",
       "    }\n",
       "\n",
       "    .dataframe thead th {\n",
       "        text-align: right;\n",
       "    }\n",
       "</style>\n",
       "<table border=\"1\" class=\"dataframe\">\n",
       "  <thead>\n",
       "    <tr style=\"text-align: right;\">\n",
       "      <th></th>\n",
       "      <th>continent</th>\n",
       "      <th>gdpPercap_1952</th>\n",
       "      <th>gdpPercap_1957</th>\n",
       "      <th>gdpPercap_1962</th>\n",
       "      <th>gdpPercap_1967</th>\n",
       "      <th>gdpPercap_1972</th>\n",
       "      <th>gdpPercap_1977</th>\n",
       "      <th>gdpPercap_1982</th>\n",
       "      <th>gdpPercap_1987</th>\n",
       "      <th>gdpPercap_1992</th>\n",
       "      <th>gdpPercap_1997</th>\n",
       "      <th>gdpPercap_2002</th>\n",
       "      <th>gdpPercap_2007</th>\n",
       "    </tr>\n",
       "    <tr>\n",
       "      <th>country</th>\n",
       "      <th></th>\n",
       "      <th></th>\n",
       "      <th></th>\n",
       "      <th></th>\n",
       "      <th></th>\n",
       "      <th></th>\n",
       "      <th></th>\n",
       "      <th></th>\n",
       "      <th></th>\n",
       "      <th></th>\n",
       "      <th></th>\n",
       "      <th></th>\n",
       "      <th></th>\n",
       "    </tr>\n",
       "  </thead>\n",
       "  <tbody>\n",
       "    <tr>\n",
       "      <th>Argentina</th>\n",
       "      <td>Americas</td>\n",
       "      <td>5911.315053</td>\n",
       "      <td>6856.856212</td>\n",
       "      <td>7133.166023</td>\n",
       "      <td>8052.953021</td>\n",
       "      <td>9443.038526</td>\n",
       "      <td>10079.026740</td>\n",
       "      <td>8997.897412</td>\n",
       "      <td>9139.671389</td>\n",
       "      <td>9308.418710</td>\n",
       "      <td>10967.281950</td>\n",
       "      <td>8797.640716</td>\n",
       "      <td>12779.379640</td>\n",
       "    </tr>\n",
       "    <tr>\n",
       "      <th>Bolivia</th>\n",
       "      <td>Americas</td>\n",
       "      <td>2677.326347</td>\n",
       "      <td>2127.686326</td>\n",
       "      <td>2180.972546</td>\n",
       "      <td>2586.886053</td>\n",
       "      <td>2980.331339</td>\n",
       "      <td>3548.097832</td>\n",
       "      <td>3156.510452</td>\n",
       "      <td>2753.691490</td>\n",
       "      <td>2961.699694</td>\n",
       "      <td>3326.143191</td>\n",
       "      <td>3413.262690</td>\n",
       "      <td>3822.137084</td>\n",
       "    </tr>\n",
       "    <tr>\n",
       "      <th>Brazil</th>\n",
       "      <td>Americas</td>\n",
       "      <td>2108.944355</td>\n",
       "      <td>2487.365989</td>\n",
       "      <td>3336.585802</td>\n",
       "      <td>3429.864357</td>\n",
       "      <td>4985.711467</td>\n",
       "      <td>6660.118654</td>\n",
       "      <td>7030.835878</td>\n",
       "      <td>7807.095818</td>\n",
       "      <td>6950.283021</td>\n",
       "      <td>7957.980824</td>\n",
       "      <td>8131.212843</td>\n",
       "      <td>9065.800825</td>\n",
       "    </tr>\n",
       "  </tbody>\n",
       "</table>\n",
       "</div>"
      ],
      "text/plain": [
       "          continent  gdpPercap_1952  gdpPercap_1957  gdpPercap_1962  \\\n",
       "country                                                               \n",
       "Argentina  Americas     5911.315053     6856.856212     7133.166023   \n",
       "Bolivia    Americas     2677.326347     2127.686326     2180.972546   \n",
       "Brazil     Americas     2108.944355     2487.365989     3336.585802   \n",
       "\n",
       "           gdpPercap_1967  gdpPercap_1972  gdpPercap_1977  gdpPercap_1982  \\\n",
       "country                                                                     \n",
       "Argentina     8052.953021     9443.038526    10079.026740     8997.897412   \n",
       "Bolivia       2586.886053     2980.331339     3548.097832     3156.510452   \n",
       "Brazil        3429.864357     4985.711467     6660.118654     7030.835878   \n",
       "\n",
       "           gdpPercap_1987  gdpPercap_1992  gdpPercap_1997  gdpPercap_2002  \\\n",
       "country                                                                     \n",
       "Argentina     9139.671389     9308.418710    10967.281950     8797.640716   \n",
       "Bolivia       2753.691490     2961.699694     3326.143191     3413.262690   \n",
       "Brazil        7807.095818     6950.283021     7957.980824     8131.212843   \n",
       "\n",
       "           gdpPercap_2007  \n",
       "country                    \n",
       "Argentina    12779.379640  \n",
       "Bolivia       3822.137084  \n",
       "Brazil        9065.800825  "
      ]
     },
     "execution_count": 22,
     "metadata": {},
     "output_type": "execute_result"
    }
   ],
   "source": [
    "americas.head(3)"
   ]
  },
  {
   "cell_type": "code",
   "execution_count": 23,
   "metadata": {},
   "outputs": [
    {
     "data": {
      "text/html": [
       "<div>\n",
       "<style scoped>\n",
       "    .dataframe tbody tr th:only-of-type {\n",
       "        vertical-align: middle;\n",
       "    }\n",
       "\n",
       "    .dataframe tbody tr th {\n",
       "        vertical-align: top;\n",
       "    }\n",
       "\n",
       "    .dataframe thead th {\n",
       "        text-align: right;\n",
       "    }\n",
       "</style>\n",
       "<table border=\"1\" class=\"dataframe\">\n",
       "  <thead>\n",
       "    <tr style=\"text-align: right;\">\n",
       "      <th></th>\n",
       "      <th>continent</th>\n",
       "      <th>gdpPercap_1952</th>\n",
       "      <th>gdpPercap_1957</th>\n",
       "      <th>gdpPercap_1962</th>\n",
       "      <th>gdpPercap_1967</th>\n",
       "      <th>gdpPercap_1972</th>\n",
       "      <th>gdpPercap_1977</th>\n",
       "      <th>gdpPercap_1982</th>\n",
       "      <th>gdpPercap_1987</th>\n",
       "      <th>gdpPercap_1992</th>\n",
       "      <th>gdpPercap_1997</th>\n",
       "      <th>gdpPercap_2002</th>\n",
       "      <th>gdpPercap_2007</th>\n",
       "    </tr>\n",
       "    <tr>\n",
       "      <th>country</th>\n",
       "      <th></th>\n",
       "      <th></th>\n",
       "      <th></th>\n",
       "      <th></th>\n",
       "      <th></th>\n",
       "      <th></th>\n",
       "      <th></th>\n",
       "      <th></th>\n",
       "      <th></th>\n",
       "      <th></th>\n",
       "      <th></th>\n",
       "      <th></th>\n",
       "      <th></th>\n",
       "    </tr>\n",
       "  </thead>\n",
       "  <tbody>\n",
       "    <tr>\n",
       "      <th>United States</th>\n",
       "      <td>Americas</td>\n",
       "      <td>13990.482080</td>\n",
       "      <td>14847.127120</td>\n",
       "      <td>16173.145860</td>\n",
       "      <td>19530.365570</td>\n",
       "      <td>21806.035940</td>\n",
       "      <td>24072.632130</td>\n",
       "      <td>25009.559140</td>\n",
       "      <td>29884.350410</td>\n",
       "      <td>32003.932240</td>\n",
       "      <td>35767.433030</td>\n",
       "      <td>39097.099550</td>\n",
       "      <td>42951.65309</td>\n",
       "    </tr>\n",
       "    <tr>\n",
       "      <th>Uruguay</th>\n",
       "      <td>Americas</td>\n",
       "      <td>5716.766744</td>\n",
       "      <td>6150.772969</td>\n",
       "      <td>5603.357717</td>\n",
       "      <td>5444.619620</td>\n",
       "      <td>5703.408898</td>\n",
       "      <td>6504.339663</td>\n",
       "      <td>6920.223051</td>\n",
       "      <td>7452.398969</td>\n",
       "      <td>8137.004775</td>\n",
       "      <td>9230.240708</td>\n",
       "      <td>7727.002004</td>\n",
       "      <td>10611.46299</td>\n",
       "    </tr>\n",
       "    <tr>\n",
       "      <th>Venezuela</th>\n",
       "      <td>Americas</td>\n",
       "      <td>7689.799761</td>\n",
       "      <td>9802.466526</td>\n",
       "      <td>8422.974165</td>\n",
       "      <td>9541.474188</td>\n",
       "      <td>10505.259660</td>\n",
       "      <td>13143.950950</td>\n",
       "      <td>11152.410110</td>\n",
       "      <td>9883.584648</td>\n",
       "      <td>10733.926310</td>\n",
       "      <td>10165.495180</td>\n",
       "      <td>8605.047831</td>\n",
       "      <td>11415.80569</td>\n",
       "    </tr>\n",
       "  </tbody>\n",
       "</table>\n",
       "</div>"
      ],
      "text/plain": [
       "              continent  gdpPercap_1952  gdpPercap_1957  gdpPercap_1962  \\\n",
       "country                                                                   \n",
       "United States  Americas    13990.482080    14847.127120    16173.145860   \n",
       "Uruguay        Americas     5716.766744     6150.772969     5603.357717   \n",
       "Venezuela      Americas     7689.799761     9802.466526     8422.974165   \n",
       "\n",
       "               gdpPercap_1967  gdpPercap_1972  gdpPercap_1977  gdpPercap_1982  \\\n",
       "country                                                                         \n",
       "United States    19530.365570    21806.035940    24072.632130    25009.559140   \n",
       "Uruguay           5444.619620     5703.408898     6504.339663     6920.223051   \n",
       "Venezuela         9541.474188    10505.259660    13143.950950    11152.410110   \n",
       "\n",
       "               gdpPercap_1987  gdpPercap_1992  gdpPercap_1997  gdpPercap_2002  \\\n",
       "country                                                                         \n",
       "United States    29884.350410    32003.932240    35767.433030    39097.099550   \n",
       "Uruguay           7452.398969     8137.004775     9230.240708     7727.002004   \n",
       "Venezuela         9883.584648    10733.926310    10165.495180     8605.047831   \n",
       "\n",
       "               gdpPercap_2007  \n",
       "country                        \n",
       "United States     42951.65309  \n",
       "Uruguay           10611.46299  \n",
       "Venezuela         11415.80569  "
      ]
     },
     "execution_count": 23,
     "metadata": {},
     "output_type": "execute_result"
    }
   ],
   "source": [
    "americas.tail(3)"
   ]
  },
  {
   "cell_type": "code",
   "execution_count": 25,
   "metadata": {},
   "outputs": [],
   "source": [
    "americas.to_csv(\"processed.csv\")"
   ]
  },
  {
   "cell_type": "markdown",
   "metadata": {},
   "source": [
    "# Using DataFrame.iloc[...,...] to select values by their entry position"
   ]
  },
  {
   "cell_type": "code",
   "execution_count": 27,
   "metadata": {},
   "outputs": [],
   "source": [
    "data = pd.read_csv(\"gapminder_gdp_europe.csv\",index_col=\"country\")"
   ]
  },
  {
   "cell_type": "code",
   "execution_count": 28,
   "metadata": {},
   "outputs": [
    {
     "data": {
      "text/plain": [
       "1601.056136"
      ]
     },
     "execution_count": 28,
     "metadata": {},
     "output_type": "execute_result"
    }
   ],
   "source": [
    "data.iloc[0,0]"
   ]
  },
  {
   "cell_type": "markdown",
   "metadata": {},
   "source": [
    "# Using DataFrame.loc[...,...] to select values by their entry label"
   ]
  },
  {
   "cell_type": "code",
   "execution_count": 30,
   "metadata": {},
   "outputs": [
    {
     "name": "stdout",
     "output_type": "stream",
     "text": [
      "1601.056136\n"
     ]
    }
   ],
   "source": [
    "print(data.loc[\"Albania\",\"gdpPercap_1952\"])"
   ]
  },
  {
   "cell_type": "code",
   "execution_count": 31,
   "metadata": {},
   "outputs": [
    {
     "data": {
      "text/plain": [
       "gdpPercap_1952    1601.056136\n",
       "gdpPercap_1957    1942.284244\n",
       "gdpPercap_1962    2312.888958\n",
       "gdpPercap_1967    2760.196931\n",
       "gdpPercap_1972    3313.422188\n",
       "gdpPercap_1977    3533.003910\n",
       "gdpPercap_1982    3630.880722\n",
       "gdpPercap_1987    3738.932735\n",
       "gdpPercap_1992    2497.437901\n",
       "gdpPercap_1997    3193.054604\n",
       "gdpPercap_2002    4604.211737\n",
       "gdpPercap_2007    5937.029526\n",
       "Name: Albania, dtype: float64"
      ]
     },
     "execution_count": 31,
     "metadata": {},
     "output_type": "execute_result"
    }
   ],
   "source": [
    "data.loc[\"Albania\",:]"
   ]
  },
  {
   "cell_type": "code",
   "execution_count": 38,
   "metadata": {},
   "outputs": [
    {
     "data": {
      "text/plain": [
       "country\n",
       "Albania                    1601.056136\n",
       "Austria                    6137.076492\n",
       "Belgium                    8343.105127\n",
       "Bosnia and Herzegovina      973.533195\n",
       "Bulgaria                   2444.286648\n",
       "Croatia                    3119.236520\n",
       "Czech Republic             6876.140250\n",
       "Denmark                    9692.385245\n",
       "Finland                    6424.519071\n",
       "France                     7029.809327\n",
       "Germany                    7144.114393\n",
       "Greece                     3530.690067\n",
       "Hungary                    5263.673816\n",
       "Iceland                    7267.688428\n",
       "Ireland                    5210.280328\n",
       "Italy                      4931.404155\n",
       "Montenegro                 2647.585601\n",
       "Netherlands                8941.571858\n",
       "Norway                    10095.421720\n",
       "Poland                     4029.329699\n",
       "Portugal                   3068.319867\n",
       "Romania                    3144.613186\n",
       "Serbia                     3581.459448\n",
       "Slovak Republic            5074.659104\n",
       "Slovenia                   4215.041741\n",
       "Spain                      3834.034742\n",
       "Sweden                     8527.844662\n",
       "Switzerland               14734.232750\n",
       "Turkey                     1969.100980\n",
       "United Kingdom             9979.508487\n",
       "Name: gdpPercap_1952, dtype: float64"
      ]
     },
     "execution_count": 38,
     "metadata": {},
     "output_type": "execute_result"
    }
   ],
   "source": [
    "data.loc[:,\"gdpPercap_1952\"]"
   ]
  },
  {
   "cell_type": "markdown",
   "metadata": {},
   "source": [
    "## Select multiple columns or rows using DataFrame.loc and a named slice."
   ]
  },
  {
   "cell_type": "code",
   "execution_count": 39,
   "metadata": {},
   "outputs": [
    {
     "data": {
      "text/html": [
       "<div>\n",
       "<style scoped>\n",
       "    .dataframe tbody tr th:only-of-type {\n",
       "        vertical-align: middle;\n",
       "    }\n",
       "\n",
       "    .dataframe tbody tr th {\n",
       "        vertical-align: top;\n",
       "    }\n",
       "\n",
       "    .dataframe thead th {\n",
       "        text-align: right;\n",
       "    }\n",
       "</style>\n",
       "<table border=\"1\" class=\"dataframe\">\n",
       "  <thead>\n",
       "    <tr style=\"text-align: right;\">\n",
       "      <th></th>\n",
       "      <th>gdpPercap_1962</th>\n",
       "      <th>gdpPercap_1967</th>\n",
       "      <th>gdpPercap_1972</th>\n",
       "    </tr>\n",
       "    <tr>\n",
       "      <th>country</th>\n",
       "      <th></th>\n",
       "      <th></th>\n",
       "      <th></th>\n",
       "    </tr>\n",
       "  </thead>\n",
       "  <tbody>\n",
       "    <tr>\n",
       "      <th>Italy</th>\n",
       "      <td>8243.582340</td>\n",
       "      <td>10022.401310</td>\n",
       "      <td>12269.273780</td>\n",
       "    </tr>\n",
       "    <tr>\n",
       "      <th>Montenegro</th>\n",
       "      <td>4649.593785</td>\n",
       "      <td>5907.850937</td>\n",
       "      <td>7778.414017</td>\n",
       "    </tr>\n",
       "    <tr>\n",
       "      <th>Netherlands</th>\n",
       "      <td>12790.849560</td>\n",
       "      <td>15363.251360</td>\n",
       "      <td>18794.745670</td>\n",
       "    </tr>\n",
       "    <tr>\n",
       "      <th>Norway</th>\n",
       "      <td>13450.401510</td>\n",
       "      <td>16361.876470</td>\n",
       "      <td>18965.055510</td>\n",
       "    </tr>\n",
       "    <tr>\n",
       "      <th>Poland</th>\n",
       "      <td>5338.752143</td>\n",
       "      <td>6557.152776</td>\n",
       "      <td>8006.506993</td>\n",
       "    </tr>\n",
       "  </tbody>\n",
       "</table>\n",
       "</div>"
      ],
      "text/plain": [
       "             gdpPercap_1962  gdpPercap_1967  gdpPercap_1972\n",
       "country                                                    \n",
       "Italy           8243.582340    10022.401310    12269.273780\n",
       "Montenegro      4649.593785     5907.850937     7778.414017\n",
       "Netherlands    12790.849560    15363.251360    18794.745670\n",
       "Norway         13450.401510    16361.876470    18965.055510\n",
       "Poland          5338.752143     6557.152776     8006.506993"
      ]
     },
     "execution_count": 39,
     "metadata": {},
     "output_type": "execute_result"
    }
   ],
   "source": [
    "data.loc[\"Italy\":\"Poland\",\"gdpPercap_1962\":\"gdpPercap_1972\"]"
   ]
  },
  {
   "cell_type": "code",
   "execution_count": 45,
   "metadata": {},
   "outputs": [
    {
     "data": {
      "text/plain": [
       "gdpPercap_1962    13450.40151\n",
       "gdpPercap_1967    16361.87647\n",
       "gdpPercap_1972    18965.05551\n",
       "dtype: float64"
      ]
     },
     "execution_count": 45,
     "metadata": {},
     "output_type": "execute_result"
    }
   ],
   "source": [
    "data.loc[\"Italy\":\"Poland\",\"gdpPercap_1962\":\"gdpPercap_1972\"].max()"
   ]
  },
  {
   "cell_type": "code",
   "execution_count": 46,
   "metadata": {},
   "outputs": [
    {
     "data": {
      "text/plain": [
       "country\n",
       "Italy          12269.273780\n",
       "Montenegro      7778.414017\n",
       "Netherlands    18794.745670\n",
       "Norway         18965.055510\n",
       "Poland          8006.506993\n",
       "dtype: float64"
      ]
     },
     "execution_count": 46,
     "metadata": {},
     "output_type": "execute_result"
    }
   ],
   "source": [
    "data.loc[\"Italy\":\"Poland\",\"gdpPercap_1962\":\"gdpPercap_1972\"].max(axis=1)"
   ]
  },
  {
   "cell_type": "code",
   "execution_count": 47,
   "metadata": {},
   "outputs": [
    {
     "data": {
      "text/plain": [
       "country\n",
       "Italy          12269.273780\n",
       "Montenegro      7778.414017\n",
       "Netherlands    18794.745670\n",
       "Norway         18965.055510\n",
       "Poland          8006.506993\n",
       "dtype: float64"
      ]
     },
     "execution_count": 47,
     "metadata": {},
     "output_type": "execute_result"
    }
   ],
   "source": [
    "data.loc[\"Italy\":\"Poland\",\"gdpPercap_1962\":\"gdpPercap_1972\"].T.max()"
   ]
  },
  {
   "cell_type": "code",
   "execution_count": 48,
   "metadata": {},
   "outputs": [
    {
     "name": "stdout",
     "output_type": "stream",
     "text": [
      "Subset of data:\n",
      "              gdpPercap_1962  gdpPercap_1967  gdpPercap_1972\n",
      "country                                                    \n",
      "Italy           8243.582340    10022.401310    12269.273780\n",
      "Montenegro      4649.593785     5907.850937     7778.414017\n",
      "Netherlands    12790.849560    15363.251360    18794.745670\n",
      "Norway         13450.401510    16361.876470    18965.055510\n",
      "Poland          5338.752143     6557.152776     8006.506993\n",
      "Where are values large?\n",
      "              gdpPercap_1962  gdpPercap_1967  gdpPercap_1972\n",
      "country                                                    \n",
      "Italy                 False            True            True\n",
      "Montenegro            False           False           False\n",
      "Netherlands            True            True            True\n",
      "Norway                 True            True            True\n",
      "Poland                False           False           False\n"
     ]
    }
   ],
   "source": [
    "subset=data.loc[\"Italy\":\"Poland\",\"gdpPercap_1962\":\"gdpPercap_1972\"]\n",
    "print(\"Subset of data:\\n\", subset)\n",
    "\n",
    "#Which values were greater than 10000?\n",
    "print(\"Where are values large?\\n\",subset > 10000)"
   ]
  },
  {
   "cell_type": "code",
   "execution_count": 49,
   "metadata": {},
   "outputs": [
    {
     "name": "stdout",
     "output_type": "stream",
     "text": [
      "             gdpPercap_1962  gdpPercap_1967  gdpPercap_1972\n",
      "country                                                    \n",
      "Italy                   NaN     10022.40131     12269.27378\n",
      "Montenegro              NaN             NaN             NaN\n",
      "Netherlands     12790.84956     15363.25136     18794.74567\n",
      "Norway          13450.40151     16361.87647     18965.05551\n",
      "Poland                  NaN             NaN             NaN\n"
     ]
    }
   ],
   "source": [
    "mask = subset > 10000\n",
    "print(subset[mask])"
   ]
  },
  {
   "cell_type": "code",
   "execution_count": 57,
   "metadata": {},
   "outputs": [
    {
     "data": {
      "text/html": [
       "<div>\n",
       "<style scoped>\n",
       "    .dataframe tbody tr th:only-of-type {\n",
       "        vertical-align: middle;\n",
       "    }\n",
       "\n",
       "    .dataframe tbody tr th {\n",
       "        vertical-align: top;\n",
       "    }\n",
       "\n",
       "    .dataframe thead th {\n",
       "        text-align: right;\n",
       "    }\n",
       "</style>\n",
       "<table border=\"1\" class=\"dataframe\">\n",
       "  <thead>\n",
       "    <tr style=\"text-align: right;\">\n",
       "      <th></th>\n",
       "      <th>gdpPercap_1962</th>\n",
       "      <th>gdpPercap_1967</th>\n",
       "      <th>gdpPercap_1972</th>\n",
       "    </tr>\n",
       "  </thead>\n",
       "  <tbody>\n",
       "    <tr>\n",
       "      <th>count</th>\n",
       "      <td>2.000000</td>\n",
       "      <td>3.000000</td>\n",
       "      <td>3.000000</td>\n",
       "    </tr>\n",
       "    <tr>\n",
       "      <th>mean</th>\n",
       "      <td>13120.625535</td>\n",
       "      <td>13915.843047</td>\n",
       "      <td>16676.358320</td>\n",
       "    </tr>\n",
       "    <tr>\n",
       "      <th>std</th>\n",
       "      <td>466.373656</td>\n",
       "      <td>3408.589070</td>\n",
       "      <td>3817.597015</td>\n",
       "    </tr>\n",
       "    <tr>\n",
       "      <th>min</th>\n",
       "      <td>12790.849560</td>\n",
       "      <td>10022.401310</td>\n",
       "      <td>12269.273780</td>\n",
       "    </tr>\n",
       "    <tr>\n",
       "      <th>25%</th>\n",
       "      <td>12955.737547</td>\n",
       "      <td>12692.826335</td>\n",
       "      <td>15532.009725</td>\n",
       "    </tr>\n",
       "    <tr>\n",
       "      <th>50%</th>\n",
       "      <td>13120.625535</td>\n",
       "      <td>15363.251360</td>\n",
       "      <td>18794.745670</td>\n",
       "    </tr>\n",
       "    <tr>\n",
       "      <th>75%</th>\n",
       "      <td>13285.513523</td>\n",
       "      <td>15862.563915</td>\n",
       "      <td>18879.900590</td>\n",
       "    </tr>\n",
       "    <tr>\n",
       "      <th>max</th>\n",
       "      <td>13450.401510</td>\n",
       "      <td>16361.876470</td>\n",
       "      <td>18965.055510</td>\n",
       "    </tr>\n",
       "  </tbody>\n",
       "</table>\n",
       "</div>"
      ],
      "text/plain": [
       "       gdpPercap_1962  gdpPercap_1967  gdpPercap_1972\n",
       "count        2.000000        3.000000        3.000000\n",
       "mean     13120.625535    13915.843047    16676.358320\n",
       "std        466.373656     3408.589070     3817.597015\n",
       "min      12790.849560    10022.401310    12269.273780\n",
       "25%      12955.737547    12692.826335    15532.009725\n",
       "50%      13120.625535    15363.251360    18794.745670\n",
       "75%      13285.513523    15862.563915    18879.900590\n",
       "max      13450.401510    16361.876470    18965.055510"
      ]
     },
     "execution_count": 57,
     "metadata": {},
     "output_type": "execute_result"
    }
   ],
   "source": [
    "subset[subset > 10000].describe()"
   ]
  },
  {
   "cell_type": "markdown",
   "metadata": {},
   "source": [
    "# Group By:  split-apply-combine"
   ]
  },
  {
   "cell_type": "code",
   "execution_count": 58,
   "metadata": {},
   "outputs": [],
   "source": [
    "mask_higher = data > data.mean()"
   ]
  },
  {
   "cell_type": "code",
   "execution_count": 59,
   "metadata": {},
   "outputs": [],
   "source": [
    "wealth_score = mask_higher.aggregate(\"sum\",axis=1) / len(data.columns)"
   ]
  },
  {
   "cell_type": "code",
   "execution_count": 60,
   "metadata": {},
   "outputs": [
    {
     "data": {
      "text/plain": [
       "country\n",
       "Albania                   0.000000\n",
       "Austria                   1.000000\n",
       "Belgium                   1.000000\n",
       "Bosnia and Herzegovina    0.000000\n",
       "Bulgaria                  0.000000\n",
       "Croatia                   0.000000\n",
       "Czech Republic            0.500000\n",
       "Denmark                   1.000000\n",
       "Finland                   1.000000\n",
       "France                    1.000000\n",
       "Germany                   1.000000\n",
       "Greece                    0.333333\n",
       "Hungary                   0.000000\n",
       "Iceland                   1.000000\n",
       "Ireland                   0.333333\n",
       "Italy                     0.500000\n",
       "Montenegro                0.000000\n",
       "Netherlands               1.000000\n",
       "Norway                    1.000000\n",
       "Poland                    0.000000\n",
       "Portugal                  0.000000\n",
       "Romania                   0.000000\n",
       "Serbia                    0.000000\n",
       "Slovak Republic           0.000000\n",
       "Slovenia                  0.333333\n",
       "Spain                     0.333333\n",
       "Sweden                    1.000000\n",
       "Switzerland               1.000000\n",
       "Turkey                    0.000000\n",
       "United Kingdom            1.000000\n",
       "dtype: float64"
      ]
     },
     "execution_count": 60,
     "metadata": {},
     "output_type": "execute_result"
    }
   ],
   "source": [
    "wealth_score"
   ]
  },
  {
   "cell_type": "code",
   "execution_count": 61,
   "metadata": {},
   "outputs": [
    {
     "data": {
      "text/html": [
       "<div>\n",
       "<style scoped>\n",
       "    .dataframe tbody tr th:only-of-type {\n",
       "        vertical-align: middle;\n",
       "    }\n",
       "\n",
       "    .dataframe tbody tr th {\n",
       "        vertical-align: top;\n",
       "    }\n",
       "\n",
       "    .dataframe thead th {\n",
       "        text-align: right;\n",
       "    }\n",
       "</style>\n",
       "<table border=\"1\" class=\"dataframe\">\n",
       "  <thead>\n",
       "    <tr style=\"text-align: right;\">\n",
       "      <th></th>\n",
       "      <th>gdpPercap_1952</th>\n",
       "      <th>gdpPercap_1957</th>\n",
       "      <th>gdpPercap_1962</th>\n",
       "      <th>gdpPercap_1967</th>\n",
       "      <th>gdpPercap_1972</th>\n",
       "      <th>gdpPercap_1977</th>\n",
       "      <th>gdpPercap_1982</th>\n",
       "      <th>gdpPercap_1987</th>\n",
       "      <th>gdpPercap_1992</th>\n",
       "      <th>gdpPercap_1997</th>\n",
       "      <th>gdpPercap_2002</th>\n",
       "      <th>gdpPercap_2007</th>\n",
       "    </tr>\n",
       "  </thead>\n",
       "  <tbody>\n",
       "    <tr>\n",
       "      <th>0.000000</th>\n",
       "      <td>36916.854200</td>\n",
       "      <td>46110.918793</td>\n",
       "      <td>56850.065437</td>\n",
       "      <td>71324.848786</td>\n",
       "      <td>88569.346898</td>\n",
       "      <td>104459.358438</td>\n",
       "      <td>113553.768507</td>\n",
       "      <td>119649.599409</td>\n",
       "      <td>92380.047256</td>\n",
       "      <td>103772.937598</td>\n",
       "      <td>118590.929863</td>\n",
       "      <td>149577.357928</td>\n",
       "    </tr>\n",
       "    <tr>\n",
       "      <th>0.333333</th>\n",
       "      <td>16790.046878</td>\n",
       "      <td>20942.456800</td>\n",
       "      <td>25744.935321</td>\n",
       "      <td>33567.667670</td>\n",
       "      <td>45277.839976</td>\n",
       "      <td>53860.456750</td>\n",
       "      <td>59679.634020</td>\n",
       "      <td>64436.912960</td>\n",
       "      <td>67918.093220</td>\n",
       "      <td>80876.051580</td>\n",
       "      <td>102086.795210</td>\n",
       "      <td>122803.729520</td>\n",
       "    </tr>\n",
       "    <tr>\n",
       "      <th>0.500000</th>\n",
       "      <td>11807.544405</td>\n",
       "      <td>14505.000150</td>\n",
       "      <td>18380.449470</td>\n",
       "      <td>21421.846200</td>\n",
       "      <td>25377.727380</td>\n",
       "      <td>29056.145370</td>\n",
       "      <td>31914.712050</td>\n",
       "      <td>35517.678220</td>\n",
       "      <td>36310.666080</td>\n",
       "      <td>40723.538700</td>\n",
       "      <td>45564.308390</td>\n",
       "      <td>51403.028210</td>\n",
       "    </tr>\n",
       "    <tr>\n",
       "      <th>1.000000</th>\n",
       "      <td>104317.277560</td>\n",
       "      <td>127332.008735</td>\n",
       "      <td>149989.154201</td>\n",
       "      <td>178000.350040</td>\n",
       "      <td>215162.343140</td>\n",
       "      <td>241143.412730</td>\n",
       "      <td>263388.781960</td>\n",
       "      <td>296825.131210</td>\n",
       "      <td>315238.235970</td>\n",
       "      <td>346930.926170</td>\n",
       "      <td>385109.939210</td>\n",
       "      <td>427850.333420</td>\n",
       "    </tr>\n",
       "  </tbody>\n",
       "</table>\n",
       "</div>"
      ],
      "text/plain": [
       "          gdpPercap_1952  gdpPercap_1957  gdpPercap_1962  gdpPercap_1967  \\\n",
       "0.000000    36916.854200    46110.918793    56850.065437    71324.848786   \n",
       "0.333333    16790.046878    20942.456800    25744.935321    33567.667670   \n",
       "0.500000    11807.544405    14505.000150    18380.449470    21421.846200   \n",
       "1.000000   104317.277560   127332.008735   149989.154201   178000.350040   \n",
       "\n",
       "          gdpPercap_1972  gdpPercap_1977  gdpPercap_1982  gdpPercap_1987  \\\n",
       "0.000000    88569.346898   104459.358438   113553.768507   119649.599409   \n",
       "0.333333    45277.839976    53860.456750    59679.634020    64436.912960   \n",
       "0.500000    25377.727380    29056.145370    31914.712050    35517.678220   \n",
       "1.000000   215162.343140   241143.412730   263388.781960   296825.131210   \n",
       "\n",
       "          gdpPercap_1992  gdpPercap_1997  gdpPercap_2002  gdpPercap_2007  \n",
       "0.000000    92380.047256   103772.937598   118590.929863   149577.357928  \n",
       "0.333333    67918.093220    80876.051580   102086.795210   122803.729520  \n",
       "0.500000    36310.666080    40723.538700    45564.308390    51403.028210  \n",
       "1.000000   315238.235970   346930.926170   385109.939210   427850.333420  "
      ]
     },
     "execution_count": 61,
     "metadata": {},
     "output_type": "execute_result"
    }
   ],
   "source": [
    "data.groupby(wealth_score).sum()"
   ]
  },
  {
   "cell_type": "code",
   "execution_count": null,
   "metadata": {},
   "outputs": [],
   "source": []
  }
 ],
 "metadata": {
  "kernelspec": {
   "display_name": "Python 3",
   "language": "python",
   "name": "python3"
  },
  "language_info": {
   "codemirror_mode": {
    "name": "ipython",
    "version": 3
   },
   "file_extension": ".py",
   "mimetype": "text/x-python",
   "name": "python",
   "nbconvert_exporter": "python",
   "pygments_lexer": "ipython3",
   "version": "3.8.5"
  }
 },
 "nbformat": 4,
 "nbformat_minor": 4
}
